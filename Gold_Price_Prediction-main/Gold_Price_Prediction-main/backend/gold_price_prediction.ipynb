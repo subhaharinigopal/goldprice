{
 "cells": [
  {
   "cell_type": "markdown",
   "metadata": {
    "id": "EWwnPXPiytHP"
   },
   "source": [
    "### Importing Necessary Libraries"
   ]
  },
  {
   "cell_type": "code",
   "execution_count": 1,
   "metadata": {
    "id": "qLUVeiCNsZuV"
   },
   "outputs": [],
   "source": [
    "import pandas as pd\n",
    "import matplotlib.pyplot as plt\n",
    "import seaborn as sns\n",
    "from sklearn.model_selection import train_test_split\n",
    "from sklearn.ensemble import RandomForestRegressor\n",
    "from sklearn.metrics import r2_score"
   ]
  },
  {
   "cell_type": "markdown",
   "metadata": {
    "id": "FtlJgmXazzMV"
   },
   "source": [
    "### Loading the Dataset"
   ]
  },
  {
   "cell_type": "code",
   "execution_count": 2,
   "metadata": {
    "id": "nzq9P9TNs4R7"
   },
   "outputs": [],
   "source": [
    "gold_data = pd.read_csv('gold_price_data.csv')"
   ]
  },
  {
   "cell_type": "code",
   "execution_count": 3,
   "metadata": {
    "colab": {
     "base_uri": "https://localhost:8080/",
     "height": 423
    },
    "id": "UpM-EsWxs-Gc",
    "outputId": "d6109af5-2dfe-4da0-fe8d-496e4138b2e8"
   },
   "outputs": [
    {
     "data": {
      "text/html": [
       "<div>\n",
       "<style scoped>\n",
       "    .dataframe tbody tr th:only-of-type {\n",
       "        vertical-align: middle;\n",
       "    }\n",
       "\n",
       "    .dataframe tbody tr th {\n",
       "        vertical-align: top;\n",
       "    }\n",
       "\n",
       "    .dataframe thead th {\n",
       "        text-align: right;\n",
       "    }\n",
       "</style>\n",
       "<table border=\"1\" class=\"dataframe\">\n",
       "  <thead>\n",
       "    <tr style=\"text-align: right;\">\n",
       "      <th></th>\n",
       "      <th>Date</th>\n",
       "      <th>SPX</th>\n",
       "      <th>GLD</th>\n",
       "      <th>USO</th>\n",
       "      <th>SLV</th>\n",
       "      <th>EUR/USD</th>\n",
       "    </tr>\n",
       "  </thead>\n",
       "  <tbody>\n",
       "    <tr>\n",
       "      <th>0</th>\n",
       "      <td>1/2/2008</td>\n",
       "      <td>1447.160034</td>\n",
       "      <td>84.860001</td>\n",
       "      <td>78.470001</td>\n",
       "      <td>15.1800</td>\n",
       "      <td>1.471692</td>\n",
       "    </tr>\n",
       "    <tr>\n",
       "      <th>1</th>\n",
       "      <td>1/3/2008</td>\n",
       "      <td>1447.160034</td>\n",
       "      <td>85.570000</td>\n",
       "      <td>78.370003</td>\n",
       "      <td>15.2850</td>\n",
       "      <td>1.474491</td>\n",
       "    </tr>\n",
       "    <tr>\n",
       "      <th>2</th>\n",
       "      <td>1/4/2008</td>\n",
       "      <td>1411.630005</td>\n",
       "      <td>85.129997</td>\n",
       "      <td>77.309998</td>\n",
       "      <td>15.1670</td>\n",
       "      <td>1.475492</td>\n",
       "    </tr>\n",
       "    <tr>\n",
       "      <th>3</th>\n",
       "      <td>1/7/2008</td>\n",
       "      <td>1416.180054</td>\n",
       "      <td>84.769997</td>\n",
       "      <td>75.500000</td>\n",
       "      <td>15.0530</td>\n",
       "      <td>1.468299</td>\n",
       "    </tr>\n",
       "    <tr>\n",
       "      <th>4</th>\n",
       "      <td>1/8/2008</td>\n",
       "      <td>1390.189941</td>\n",
       "      <td>86.779999</td>\n",
       "      <td>76.059998</td>\n",
       "      <td>15.5900</td>\n",
       "      <td>1.557099</td>\n",
       "    </tr>\n",
       "    <tr>\n",
       "      <th>...</th>\n",
       "      <td>...</td>\n",
       "      <td>...</td>\n",
       "      <td>...</td>\n",
       "      <td>...</td>\n",
       "      <td>...</td>\n",
       "      <td>...</td>\n",
       "    </tr>\n",
       "    <tr>\n",
       "      <th>2285</th>\n",
       "      <td>5/8/2018</td>\n",
       "      <td>2671.919922</td>\n",
       "      <td>124.589996</td>\n",
       "      <td>14.060000</td>\n",
       "      <td>15.5100</td>\n",
       "      <td>1.186789</td>\n",
       "    </tr>\n",
       "    <tr>\n",
       "      <th>2286</th>\n",
       "      <td>5/9/2018</td>\n",
       "      <td>2697.790039</td>\n",
       "      <td>124.330002</td>\n",
       "      <td>14.370000</td>\n",
       "      <td>15.5300</td>\n",
       "      <td>1.184722</td>\n",
       "    </tr>\n",
       "    <tr>\n",
       "      <th>2287</th>\n",
       "      <td>5/10/2018</td>\n",
       "      <td>2723.070068</td>\n",
       "      <td>125.180000</td>\n",
       "      <td>14.410000</td>\n",
       "      <td>15.7400</td>\n",
       "      <td>1.191753</td>\n",
       "    </tr>\n",
       "    <tr>\n",
       "      <th>2288</th>\n",
       "      <td>5/14/2018</td>\n",
       "      <td>2730.129883</td>\n",
       "      <td>124.489998</td>\n",
       "      <td>14.380000</td>\n",
       "      <td>15.5600</td>\n",
       "      <td>1.193118</td>\n",
       "    </tr>\n",
       "    <tr>\n",
       "      <th>2289</th>\n",
       "      <td>5/16/2018</td>\n",
       "      <td>2725.780029</td>\n",
       "      <td>122.543800</td>\n",
       "      <td>14.405800</td>\n",
       "      <td>15.4542</td>\n",
       "      <td>1.182033</td>\n",
       "    </tr>\n",
       "  </tbody>\n",
       "</table>\n",
       "<p>2290 rows × 6 columns</p>\n",
       "</div>"
      ],
      "text/plain": [
       "           Date          SPX         GLD        USO      SLV   EUR/USD\n",
       "0      1/2/2008  1447.160034   84.860001  78.470001  15.1800  1.471692\n",
       "1      1/3/2008  1447.160034   85.570000  78.370003  15.2850  1.474491\n",
       "2      1/4/2008  1411.630005   85.129997  77.309998  15.1670  1.475492\n",
       "3      1/7/2008  1416.180054   84.769997  75.500000  15.0530  1.468299\n",
       "4      1/8/2008  1390.189941   86.779999  76.059998  15.5900  1.557099\n",
       "...         ...          ...         ...        ...      ...       ...\n",
       "2285   5/8/2018  2671.919922  124.589996  14.060000  15.5100  1.186789\n",
       "2286   5/9/2018  2697.790039  124.330002  14.370000  15.5300  1.184722\n",
       "2287  5/10/2018  2723.070068  125.180000  14.410000  15.7400  1.191753\n",
       "2288  5/14/2018  2730.129883  124.489998  14.380000  15.5600  1.193118\n",
       "2289  5/16/2018  2725.780029  122.543800  14.405800  15.4542  1.182033\n",
       "\n",
       "[2290 rows x 6 columns]"
      ]
     },
     "execution_count": 3,
     "metadata": {},
     "output_type": "execute_result"
    }
   ],
   "source": [
    "gold_data"
   ]
  },
  {
   "cell_type": "code",
   "execution_count": 4,
   "metadata": {
    "colab": {
     "base_uri": "https://localhost:8080/"
    },
    "id": "5p3zrN3F0hUo",
    "outputId": "e60b48a3-758f-48a6-e266-87378df5d213"
   },
   "outputs": [
    {
     "data": {
      "text/plain": [
       "(2290, 6)"
      ]
     },
     "execution_count": 4,
     "metadata": {},
     "output_type": "execute_result"
    }
   ],
   "source": [
    "gold_data.shape"
   ]
  },
  {
   "cell_type": "markdown",
   "metadata": {
    "id": "CjDKyiblz2bg"
   },
   "source": [
    "### Getting some information out of the dataset"
   ]
  },
  {
   "cell_type": "code",
   "execution_count": 5,
   "metadata": {
    "colab": {
     "base_uri": "https://localhost:8080/"
    },
    "id": "6wq1Uu6cs_p8",
    "outputId": "db9e7602-92f2-4f4e-e8e7-01cf7220276f"
   },
   "outputs": [
    {
     "name": "stdout",
     "output_type": "stream",
     "text": [
      "<class 'pandas.core.frame.DataFrame'>\n",
      "RangeIndex: 2290 entries, 0 to 2289\n",
      "Data columns (total 6 columns):\n",
      " #   Column   Non-Null Count  Dtype  \n",
      "---  ------   --------------  -----  \n",
      " 0   Date     2290 non-null   object \n",
      " 1   SPX      2290 non-null   float64\n",
      " 2   GLD      2290 non-null   float64\n",
      " 3   USO      2290 non-null   float64\n",
      " 4   SLV      2290 non-null   float64\n",
      " 5   EUR/USD  2290 non-null   float64\n",
      "dtypes: float64(5), object(1)\n",
      "memory usage: 107.5+ KB\n"
     ]
    }
   ],
   "source": [
    "gold_data.info()"
   ]
  },
  {
   "cell_type": "markdown",
   "metadata": {
    "id": "3h1HBPEN0BGW"
   },
   "source": [
    "### Checking for null values"
   ]
  },
  {
   "cell_type": "code",
   "execution_count": 6,
   "metadata": {
    "colab": {
     "base_uri": "https://localhost:8080/"
    },
    "id": "Ivq987GFz-3P",
    "outputId": "81931cbe-25c0-46ed-e683-eef00149e725"
   },
   "outputs": [
    {
     "data": {
      "text/plain": [
       "Date       0\n",
       "SPX        0\n",
       "GLD        0\n",
       "USO        0\n",
       "SLV        0\n",
       "EUR/USD    0\n",
       "dtype: int64"
      ]
     },
     "execution_count": 6,
     "metadata": {},
     "output_type": "execute_result"
    }
   ],
   "source": [
    "gold_data.isnull().sum()"
   ]
  },
  {
   "cell_type": "markdown",
   "metadata": {
    "id": "pYbH58ie6-_H"
   },
   "source": [
    "### Checking the relation between different columns"
   ]
  },
  {
   "cell_type": "code",
   "execution_count": 7,
   "metadata": {
    "colab": {
     "base_uri": "https://localhost:8080/"
    },
    "id": "gdMeZrrV7IdQ",
    "outputId": "0602d8e1-f6fb-4eab-dea9-5d7d26100513"
   },
   "outputs": [
    {
     "name": "stderr",
     "output_type": "stream",
     "text": [
      "C:\\Users\\Somenath\\AppData\\Local\\Temp\\ipykernel_23492\\1828644926.py:1: FutureWarning: The default value of numeric_only in DataFrame.corr is deprecated. In a future version, it will default to False. Select only valid columns or specify the value of numeric_only to silence this warning.\n",
      "  correlation = gold_data.corr()\n"
     ]
    }
   ],
   "source": [
    "correlation = gold_data.corr()"
   ]
  },
  {
   "cell_type": "markdown",
   "metadata": {
    "id": "iIOgRcLl7W1X"
   },
   "source": [
    "### Constructing heap map to understand the correlation"
   ]
  },
  {
   "cell_type": "code",
   "execution_count": 8,
   "metadata": {
    "colab": {
     "base_uri": "https://localhost:8080/",
     "height": 675
    },
    "id": "aAVoU9wx7T_a",
    "outputId": "c2d12338-10b7-427d-a162-0343b295bb24"
   },
   "outputs": [
    {
     "data": {
      "text/plain": [
       "<Axes: >"
      ]
     },
     "execution_count": 8,
     "metadata": {},
     "output_type": "execute_result"
    },
    {
     "data": {
      "image/png": "[encoded data removed]",
      "text/plain": [
       "<Figure size 800x800 with 2 Axes>"
      ]
     },
     "metadata": {},
     "output_type": "display_data"
    }
   ],
   "source": [
    "plt.figure(figsize=(8, 8))\n",
    "sns.heatmap(correlation, cbar=True, square=True, fmt='.1f', annot=True, annot_kws={'size' : 8}, cmap='Blues')"
   ]
  },
  {
   "cell_type": "markdown",
   "metadata": {
    "id": "DT7zbyZuC-87"
   },
   "source": [
    "### Removing the unnecessary columns"
   ]
  },
  {
   "cell_type": "code",
   "execution_count": 9,
   "metadata": {
    "id": "O35LGjT673ua"
   },
   "outputs": [],
   "source": [
    "gold_data.drop(columns=[\"Date\"], axis=1, inplace=True)"
   ]
  },
  {
   "cell_type": "code",
   "execution_count": 10,
   "metadata": {
    "colab": {
     "base_uri": "https://localhost:8080/",
     "height": 206
    },
    "id": "pboYPLeXDM14",
    "outputId": "fd4ff93b-89db-463a-ba8f-f60049aac108"
   },
   "outputs": [
    {
     "data": {
      "text/html": [
       "<div>\n",
       "<style scoped>\n",
       "    .dataframe tbody tr th:only-of-type {\n",
       "        vertical-align: middle;\n",
       "    }\n",
       "\n",
       "    .dataframe tbody tr th {\n",
       "        vertical-align: top;\n",
       "    }\n",
       "\n",
       "    .dataframe thead th {\n",
       "        text-align: right;\n",
       "    }\n",
       "</style>\n",
       "<table border=\"1\" class=\"dataframe\">\n",
       "  <thead>\n",
       "    <tr style=\"text-align: right;\">\n",
       "      <th></th>\n",
       "      <th>SPX</th>\n",
       "      <th>GLD</th>\n",
       "      <th>USO</th>\n",
       "      <th>SLV</th>\n",
       "      <th>EUR/USD</th>\n",
       "    </tr>\n",
       "  </thead>\n",
       "  <tbody>\n",
       "    <tr>\n",
       "      <th>0</th>\n",
       "      <td>1447.160034</td>\n",
       "      <td>84.860001</td>\n",
       "      <td>78.470001</td>\n",
       "      <td>15.180</td>\n",
       "      <td>1.471692</td>\n",
       "    </tr>\n",
       "    <tr>\n",
       "      <th>1</th>\n",
       "      <td>1447.160034</td>\n",
       "      <td>85.570000</td>\n",
       "      <td>78.370003</td>\n",
       "      <td>15.285</td>\n",
       "      <td>1.474491</td>\n",
       "    </tr>\n",
       "    <tr>\n",
       "      <th>2</th>\n",
       "      <td>1411.630005</td>\n",
       "      <td>85.129997</td>\n",
       "      <td>77.309998</td>\n",
       "      <td>15.167</td>\n",
       "      <td>1.475492</td>\n",
       "    </tr>\n",
       "    <tr>\n",
       "      <th>3</th>\n",
       "      <td>1416.180054</td>\n",
       "      <td>84.769997</td>\n",
       "      <td>75.500000</td>\n",
       "      <td>15.053</td>\n",
       "      <td>1.468299</td>\n",
       "    </tr>\n",
       "    <tr>\n",
       "      <th>4</th>\n",
       "      <td>1390.189941</td>\n",
       "      <td>86.779999</td>\n",
       "      <td>76.059998</td>\n",
       "      <td>15.590</td>\n",
       "      <td>1.557099</td>\n",
       "    </tr>\n",
       "  </tbody>\n",
       "</table>\n",
       "</div>"
      ],
      "text/plain": [
       "           SPX        GLD        USO     SLV   EUR/USD\n",
       "0  1447.160034  84.860001  78.470001  15.180  1.471692\n",
       "1  1447.160034  85.570000  78.370003  15.285  1.474491\n",
       "2  1411.630005  85.129997  77.309998  15.167  1.475492\n",
       "3  1416.180054  84.769997  75.500000  15.053  1.468299\n",
       "4  1390.189941  86.779999  76.059998  15.590  1.557099"
      ]
     },
     "execution_count": 10,
     "metadata": {},
     "output_type": "execute_result"
    }
   ],
   "source": [
    "gold_data.head()"
   ]
  },
  {
   "cell_type": "markdown",
   "metadata": {
    "id": "CTz1wYEXDUg8"
   },
   "source": [
    "### Splitting the data into features and labels"
   ]
  },
  {
   "cell_type": "code",
   "execution_count": 11,
   "metadata": {
    "id": "0tMIvb2XDOvZ"
   },
   "outputs": [],
   "source": [
    "X = gold_data.drop(columns=['GLD'], axis=1)\n",
    "y = gold_data['GLD']"
   ]
  },
  {
   "cell_type": "code",
   "execution_count": 12,
   "metadata": {
    "colab": {
     "base_uri": "https://localhost:8080/",
     "height": 206
    },
    "id": "oRFqUn1PDf8G",
    "outputId": "a36a2054-1abb-4b06-9521-8d7d8990d444"
   },
   "outputs": [
    {
     "data": {
      "text/html": [
       "<div>\n",
       "<style scoped>\n",
       "    .dataframe tbody tr th:only-of-type {\n",
       "        vertical-align: middle;\n",
       "    }\n",
       "\n",
       "    .dataframe tbody tr th {\n",
       "        vertical-align: top;\n",
       "    }\n",
       "\n",
       "    .dataframe thead th {\n",
       "        text-align: right;\n",
       "    }\n",
       "</style>\n",
       "<table border=\"1\" class=\"dataframe\">\n",
       "  <thead>\n",
       "    <tr style=\"text-align: right;\">\n",
       "      <th></th>\n",
       "      <th>SPX</th>\n",
       "      <th>USO</th>\n",
       "      <th>SLV</th>\n",
       "      <th>EUR/USD</th>\n",
       "    </tr>\n",
       "  </thead>\n",
       "  <tbody>\n",
       "    <tr>\n",
       "      <th>0</th>\n",
       "      <td>1447.160034</td>\n",
       "      <td>78.470001</td>\n",
       "      <td>15.180</td>\n",
       "      <td>1.471692</td>\n",
       "    </tr>\n",
       "    <tr>\n",
       "      <th>1</th>\n",
       "      <td>1447.160034</td>\n",
       "      <td>78.370003</td>\n",
       "      <td>15.285</td>\n",
       "      <td>1.474491</td>\n",
       "    </tr>\n",
       "    <tr>\n",
       "      <th>2</th>\n",
       "      <td>1411.630005</td>\n",
       "      <td>77.309998</td>\n",
       "      <td>15.167</td>\n",
       "      <td>1.475492</td>\n",
       "    </tr>\n",
       "    <tr>\n",
       "      <th>3</th>\n",
       "      <td>1416.180054</td>\n",
       "      <td>75.500000</td>\n",
       "      <td>15.053</td>\n",
       "      <td>1.468299</td>\n",
       "    </tr>\n",
       "    <tr>\n",
       "      <th>4</th>\n",
       "      <td>1390.189941</td>\n",
       "      <td>76.059998</td>\n",
       "      <td>15.590</td>\n",
       "      <td>1.557099</td>\n",
       "    </tr>\n",
       "  </tbody>\n",
       "</table>\n",
       "</div>"
      ],
      "text/plain": [
       "           SPX        USO     SLV   EUR/USD\n",
       "0  1447.160034  78.470001  15.180  1.471692\n",
       "1  1447.160034  78.370003  15.285  1.474491\n",
       "2  1411.630005  77.309998  15.167  1.475492\n",
       "3  1416.180054  75.500000  15.053  1.468299\n",
       "4  1390.189941  76.059998  15.590  1.557099"
      ]
     },
     "execution_count": 12,
     "metadata": {},
     "output_type": "execute_result"
    }
   ],
   "source": [
    "X.head()"
   ]
  },
  {
   "cell_type": "code",
   "execution_count": 13,
   "metadata": {
    "colab": {
     "base_uri": "https://localhost:8080/"
    },
    "id": "s2OWQZiTDhVx",
    "outputId": "cea99c73-0983-493f-94d5-cbf804bc69ab"
   },
   "outputs": [
    {
     "data": {
      "text/plain": [
       "0    84.860001\n",
       "1    85.570000\n",
       "2    85.129997\n",
       "3    84.769997\n",
       "4    86.779999\n",
       "Name: GLD, dtype: float64"
      ]
     },
     "execution_count": 13,
     "metadata": {},
     "output_type": "execute_result"
    }
   ],
   "source": [
    "y.head()"
   ]
  },
  {
   "cell_type": "markdown",
   "metadata": {
    "id": "ZDsYQWzZDqN9"
   },
   "source": [
    "### Implementing Train Test Split"
   ]
  },
  {
   "cell_type": "code",
   "execution_count": 14,
   "metadata": {
    "id": "rYuPOLoEDjEf"
   },
   "outputs": [],
   "source": [
    "X_train, X_test, y_train, y_test = train_test_split(X, y, test_size=0.2, random_state=3)"
   ]
  },
  {
   "cell_type": "markdown",
   "metadata": {
    "id": "Jz8qtQBqFM3g"
   },
   "source": [
    "### Initializing the model"
   ]
  },
  {
   "cell_type": "code",
   "execution_count": 15,
   "metadata": {
    "id": "uMw0gpmmD7Cm"
   },
   "outputs": [],
   "source": [
    "model = RandomForestRegressor(n_estimators=100)"
   ]
  },
  {
   "cell_type": "markdown",
   "metadata": {
    "id": "fIdmoGXGF93n"
   },
   "source": [
    "### Training the Model"
   ]
  },
  {
   "cell_type": "code",
   "execution_count": 16,
   "metadata": {
    "colab": {
     "base_uri": "https://localhost:8080/",
     "height": 74
    },
    "id": "BffNcDEYF7RQ",
    "outputId": "ffd7ce5f-d1c7-4454-fd96-e88a6981105d"
   },
   "outputs": [
    {
     "data": {
      "text/html": [
       "<style>#sk-container-id-1 {color: black;background-color: white;}#sk-container-id-1 pre{padding: 0;}#sk-container-id-1 div.sk-toggleable {background-color: white;}#sk-container-id-1 label.sk-toggleable__label {cursor: pointer;display: block;width: 100%;margin-bottom: 0;padding: 0.3em;box-sizing: border-box;text-align: center;}#sk-container-id-1 label.sk-toggleable__label-arrow:before {content: \"▸\";float: left;margin-right: 0.25em;color: #696969;}#sk-container-id-1 label.sk-toggleable__label-arrow:hover:before {color: black;}#sk-container-id-1 div.sk-estimator:hover label.sk-toggleable__label-arrow:before {color: black;}#sk-container-id-1 div.sk-toggleable__content {max-height: 0;max-width: 0;overflow: hidden;text-align: left;background-color: #f0f8ff;}#sk-container-id-1 div.sk-toggleable__content pre {margin: 0.2em;color: black;border-radius: 0.25em;background-color: #f0f8ff;}#sk-container-id-1 input.sk-toggleable__control:checked~div.sk-toggleable__content {max-height: 200px;max-width: 100%;overflow: auto;}#sk-container-id-1 input.sk-toggleable__control:checked~label.sk-toggleable__label-arrow:before {content: \"▾\";}#sk-container-id-1 div.sk-estimator input.sk-toggleable__control:checked~label.sk-toggleable__label {background-color: #d4ebff;}#sk-container-id-1 div.sk-label input.sk-toggleable__control:checked~label.sk-toggleable__label {background-color: #d4ebff;}#sk-container-id-1 input.sk-hidden--visually {border: 0;clip: rect(1px 1px 1px 1px);clip: rect(1px, 1px, 1px, 1px);height: 1px;margin: -1px;overflow: hidden;padding: 0;position: absolute;width: 1px;}#sk-container-id-1 div.sk-estimator {font-family: monospace;background-color: #f0f8ff;border: 1px dotted black;border-radius: 0.25em;box-sizing: border-box;margin-bottom: 0.5em;}#sk-container-id-1 div.sk-estimator:hover {background-color: #d4ebff;}#sk-container-id-1 div.sk-parallel-item::after {content: \"\";width: 100%;border-bottom: 1px solid gray;flex-grow: 1;}#sk-container-id-1 div.sk-label:hover label.sk-toggleable__label {background-color: #d4ebff;}#sk-container-id-1 div.sk-serial::before {content: \"\";position: absolute;border-left: 1px solid gray;box-sizing: border-box;top: 0;bottom: 0;left: 50%;z-index: 0;}#sk-container-id-1 div.sk-serial {display: flex;flex-direction: column;align-items: center;background-color: white;padding-right: 0.2em;padding-left: 0.2em;position: relative;}#sk-container-id-1 div.sk-item {position: relative;z-index: 1;}#sk-container-id-1 div.sk-parallel {display: flex;align-items: stretch;justify-content: center;background-color: white;position: relative;}#sk-container-id-1 div.sk-item::before, #sk-container-id-1 div.sk-parallel-item::before {content: \"\";position: absolute;border-left: 1px solid gray;box-sizing: border-box;top: 0;bottom: 0;left: 50%;z-index: -1;}#sk-container-id-1 div.sk-parallel-item {display: flex;flex-direction: column;z-index: 1;position: relative;background-color: white;}#sk-container-id-1 div.sk-parallel-item:first-child::after {align-self: flex-end;width: 50%;}#sk-container-id-1 div.sk-parallel-item:last-child::after {align-self: flex-start;width: 50%;}#sk-container-id-1 div.sk-parallel-item:only-child::after {width: 0;}#sk-container-id-1 div.sk-dashed-wrapped {border: 1px dashed gray;margin: 0 0.4em 0.5em 0.4em;box-sizing: border-box;padding-bottom: 0.4em;background-color: white;}#sk-container-id-1 div.sk-label label {font-family: monospace;font-weight: bold;display: inline-block;line-height: 1.2em;}#sk-container-id-1 div.sk-label-container {text-align: center;}#sk-container-id-1 div.sk-container {/* jupyter's `normalize.less` sets `[hidden] { display: none; }` but bootstrap.min.css set `[hidden] { display: none !important; }` so we also need the `!important` here to be able to override the default hidden behavior on the sphinx rendered scikit-learn.org. See: https://github.com/scikit-learn/scikit-learn/issues/21755 */display: inline-block !important;position: relative;}#sk-container-id-1 div.sk-text-repr-fallback {display: none;}</style><div id=\"sk-container-id-1\" class=\"sk-top-container\"><div class=\"sk-text-repr-fallback\"><pre>RandomForestRegressor()</pre><b>In a Jupyter environment, please rerun this cell to show the HTML representation or trust the notebook. <br />On GitHub, the HTML representation is unable to render, please try loading this page with nbviewer.org.</b></div><div class=\"sk-container\" hidden><div class=\"sk-item\"><div class=\"sk-estimator sk-toggleable\"><input class=\"sk-toggleable__control sk-hidden--visually\" id=\"sk-estimator-id-1\" type=\"checkbox\" checked><label for=\"sk-estimator-id-1\" class=\"sk-toggleable__label sk-toggleable__label-arrow\">RandomForestRegressor</label><div class=\"sk-toggleable__content\"><pre>RandomForestRegressor()</pre></div></div></div></div></div>"
      ],
      "text/plain": [
       "RandomForestRegressor()"
      ]
     },
     "execution_count": 16,
     "metadata": {},
     "output_type": "execute_result"
    }
   ],
   "source": [
    "model.fit(X_train, y_train)"
   ]
  },
  {
   "cell_type": "markdown",
   "metadata": {
    "id": "49qXsrJmGGw5"
   },
   "source": [
    "### Calculating the accuracy of the model on training and testing data"
   ]
  },
  {
   "cell_type": "code",
   "execution_count": 17,
   "metadata": {
    "colab": {
     "base_uri": "https://localhost:8080/"
    },
    "id": "Iwrji3XMGDFA",
    "outputId": "925b32b7-86ff-4047-db05-daf5e90624f1"
   },
   "outputs": [
    {
     "name": "stdout",
     "output_type": "stream",
     "text": [
      "Accuracy on training data: 0.9985472154666011\n"
     ]
    }
   ],
   "source": [
    "prediction_X_train = model.predict(X_train)\n",
    "\n",
    "print(f\"Accuracy on training data: {r2_score(y_train, prediction_X_train)}\")"
   ]
  },
  {
   "cell_type": "code",
   "execution_count": 18,
   "metadata": {
    "colab": {
     "base_uri": "https://localhost:8080/"
    },
    "id": "ZFik7tSMG6FC",
    "outputId": "973fbdf0-ccb8-4197-ef53-34e587f70a72"
   },
   "outputs": [
    {
     "name": "stdout",
     "output_type": "stream",
     "text": [
      "Accuracy on testing data: 0.9856786507075391\n"
     ]
    }
   ],
   "source": [
    "prediction_X_test = model.predict(X_test)\n",
    "\n",
    "print(f\"Accuracy on testing data: {r2_score(y_test, prediction_X_test)}\")"
   ]
  },
  {
   "cell_type": "markdown",
   "metadata": {
    "id": "p6f87Be_HW26"
   },
   "source": [
    "### Predicted Value VS Actual Value"
   ]
  },
  {
   "cell_type": "code",
   "execution_count": 19,
   "metadata": {
    "colab": {
     "base_uri": "https://localhost:8080/"
    },
    "id": "9N8BTaGzG_L5",
    "outputId": "c43d255f-49b9-494a-caa7-c7a28277a2f5"
   },
   "outputs": [
    {
     "name": "stdout",
     "output_type": "stream",
     "text": [
      "Predicted Gold Price: $163.37519983. Actual Gold Price: $161.990005\n",
      "Predicted Gold Price: $127.4780990399999. Actual Gold Price: $127.580002\n",
      "Predicted Gold Price: $124.21559980999994. Actual Gold Price: $124.57\n",
      "Predicted Gold Price: $119.51619887999998. Actual Gold Price: $118.970001\n",
      "Predicted Gold Price: $126.0253983299998. Actual Gold Price: $125.720001\n",
      "Predicted Gold Price: $86.12269799000005. Actual Gold Price: $85.129997\n",
      "Predicted Gold Price: $171.7674023199999. Actual Gold Price: $171.470001\n",
      "Predicted Gold Price: $137.09639998999995. Actual Gold Price: $155.330002\n",
      "Predicted Gold Price: $106.92070099999994. Actual Gold Price: $108.089996\n",
      "Predicted Gold Price: $133.08670155999994. Actual Gold Price: $130.589996\n",
      "Predicted Gold Price: $120.55769925999994. Actual Gold Price: $119.82\n",
      "Predicted Gold Price: $124.79140037999996. Actual Gold Price: $124.599998\n",
      "Predicted Gold Price: $143.46249798000005. Actual Gold Price: $142.380005\n",
      "Predicted Gold Price: $104.61050034000003. Actual Gold Price: $105.699997\n",
      "Predicted Gold Price: $80.7702994. Actual Gold Price: $80.760002\n",
      "Predicted Gold Price: $118.7438003600001. Actual Gold Price: $123.709999\n",
      "Predicted Gold Price: $140.31780018999999. Actual Gold Price: $139.050003\n",
      "Predicted Gold Price: $90.49440028000001. Actual Gold Price: $88.25\n",
      "Predicted Gold Price: $91.47289936000004. Actual Gold Price: $92.309998\n",
      "Predicted Gold Price: $128.28320219999995. Actual Gold Price: $127.839996\n",
      "Predicted Gold Price: $125.81059934999999. Actual Gold Price: $126.300003\n",
      "Predicted Gold Price: $147.46249980999997. Actual Gold Price: $149.880005\n",
      "Predicted Gold Price: $116.58380167000003. Actual Gold Price: $117.730003\n",
      "Predicted Gold Price: $153.23589933999992. Actual Gold Price: $154.669998\n",
      "Predicted Gold Price: $129.42729924999995. Actual Gold Price: $130.559998\n",
      "Predicted Gold Price: $129.20100087000003. Actual Gold Price: $130.619995\n",
      "Predicted Gold Price: $118.28060108000004. Actual Gold Price: $119.769997\n",
      "Predicted Gold Price: $111.50560056999991. Actual Gold Price: $112.059998\n",
      "Predicted Gold Price: $169.05800067. Actual Gold Price: $170.850006\n",
      "Predicted Gold Price: $158.01869886999987. Actual Gold Price: $157.770004\n",
      "Predicted Gold Price: $125.94880179999997. Actual Gold Price: $126.230003\n",
      "Predicted Gold Price: $154.03170170999994. Actual Gold Price: $152.990005\n",
      "Predicted Gold Price: $126.97849929000006. Actual Gold Price: $128.830002\n",
      "Predicted Gold Price: $122.62729770999984. Actual Gold Price: $122.900002\n",
      "Predicted Gold Price: $116.33100148000005. Actual Gold Price: $115.989998\n",
      "Predicted Gold Price: $154.76440004999986. Actual Gold Price: $155.360001\n",
      "Predicted Gold Price: $115.12580021000007. Actual Gold Price: $116.010002\n",
      "Predicted Gold Price: $120.64920096000007. Actual Gold Price: $121.129997\n",
      "Predicted Gold Price: $103.93770193999998. Actual Gold Price: $104.68\n",
      "Predicted Gold Price: $105.44529997999987. Actual Gold Price: $107.730003\n",
      "Predicted Gold Price: $134.79719900999993. Actual Gold Price: $133.509995\n",
      "Predicted Gold Price: $86.00169978. Actual Gold Price: $84.769997\n",
      "Predicted Gold Price: $156.51890123999993. Actual Gold Price: $159.300003\n",
      "Predicted Gold Price: $121.19600010999987. Actual Gold Price: $121.239998\n",
      "Predicted Gold Price: $122.277701. Actual Gold Price: $122.959999\n",
      "Predicted Gold Price: $155.53540078999998. Actual Gold Price: $156.300003\n",
      "Predicted Gold Price: $120.28550018000011. Actual Gold Price: $119.68\n",
      "Predicted Gold Price: $116.65780006000011. Actual Gold Price: $116.080002\n",
      "Predicted Gold Price: $169.06170337000006. Actual Gold Price: $169.630005\n",
      "Predicted Gold Price: $116.43560060999998. Actual Gold Price: $116.099998\n",
      "Predicted Gold Price: $137.9824013. Actual Gold Price: $135.199997\n",
      "Predicted Gold Price: $161.94059792999994. Actual Gold Price: $161.960007\n",
      "Predicted Gold Price: $158.34800049999996. Actual Gold Price: $159.460007\n",
      "Predicted Gold Price: $153.47370024999995. Actual Gold Price: $151.619995\n",
      "Predicted Gold Price: $123.51170059999995. Actual Gold Price: $124.389999\n",
      "Predicted Gold Price: $117.11020012000006. Actual Gold Price: $115.779999\n",
      "Predicted Gold Price: $167.28989979999983. Actual Gold Price: $167.559998\n",
      "Predicted Gold Price: $117.54939971999993. Actual Gold Price: $115.550003\n",
      "Predicted Gold Price: $165.60300000999987. Actual Gold Price: $165.800003\n",
      "Predicted Gold Price: $84.34999974. Actual Gold Price: $84.459999\n",
      "Predicted Gold Price: $121.36889934000001. Actual Gold Price: $122.129997\n",
      "Predicted Gold Price: $122.14120005000004. Actual Gold Price: $122.07\n",
      "Predicted Gold Price: $120.14670025. Actual Gold Price: $119.330002\n",
      "Predicted Gold Price: $172.0262996099999. Actual Gold Price: $172.339996\n",
      "Predicted Gold Price: $118.91209983000003. Actual Gold Price: $119.410004\n",
      "Predicted Gold Price: $180.7151966199998. Actual Gold Price: $181.809998\n",
      "Predicted Gold Price: $161.8945024499999. Actual Gold Price: $160.630005\n",
      "Predicted Gold Price: $138.80840197000003. Actual Gold Price: $135.110001\n",
      "Predicted Gold Price: $115.32480018999996. Actual Gold Price: $114.739998\n",
      "Predicted Gold Price: $92.62300049000008. Actual Gold Price: $93.129997\n",
      "Predicted Gold Price: $171.9684001699999. Actual Gold Price: $172.100006\n",
      "Predicted Gold Price: $117.72809997000005. Actual Gold Price: $117.75\n",
      "Predicted Gold Price: $117.67699869999997. Actual Gold Price: $118.519997\n",
      "Predicted Gold Price: $125.58439973999997. Actual Gold Price: $124.790001\n",
      "Predicted Gold Price: $147.01049881000014. Actual Gold Price: $145.649994\n",
      "Predicted Gold Price: $91.16780101999993. Actual Gold Price: $91.230003\n",
      "Predicted Gold Price: $83.72039872999996. Actual Gold Price: $82.75\n",
      "Predicted Gold Price: $89.27629993999996. Actual Gold Price: $89.220001\n",
      "Predicted Gold Price: $102.70449861000006. Actual Gold Price: $102.839996\n",
      "Predicted Gold Price: $124.79800060999997. Actual Gold Price: $124.150002\n",
      "Predicted Gold Price: $123.24890085000008. Actual Gold Price: $121.559998\n",
      "Predicted Gold Price: $170.06030285. Actual Gold Price: $172.940002\n",
      "Predicted Gold Price: $121.57659989999998. Actual Gold Price: $120.050003\n",
      "Predicted Gold Price: $126.1041993499999. Actual Gold Price: $127.010002\n",
      "Predicted Gold Price: $160.08520538000002. Actual Gold Price: $159.369995\n",
      "Predicted Gold Price: $120.49340045999999. Actual Gold Price: $120.669998\n",
      "Predicted Gold Price: $169.67180075000005. Actual Gold Price: $170.399994\n",
      "Predicted Gold Price: $148.1251968199999. Actual Gold Price: $147.380005\n",
      "Predicted Gold Price: $87.04009922999995. Actual Gold Price: $87.239998\n",
      "Predicted Gold Price: $126.68210033999995. Actual Gold Price: $126.559998\n",
      "Predicted Gold Price: $118.59740077000001. Actual Gold Price: $118.360001\n",
      "Predicted Gold Price: $90.01179991999996. Actual Gold Price: $89.330002\n",
      "Predicted Gold Price: $118.77180042000015. Actual Gold Price: $117.68\n",
      "Predicted Gold Price: $116.80539778999997. Actual Gold Price: $115.839996\n",
      "Predicted Gold Price: $89.09049906. Actual Gold Price: $88.279999\n",
      "Predicted Gold Price: $138.06260207000005. Actual Gold Price: $141.110001\n",
      "Predicted Gold Price: $160.93870136999996. Actual Gold Price: $162.020004\n",
      "Predicted Gold Price: $130.91560372999996. Actual Gold Price: $129.520004\n",
      "Predicted Gold Price: $105.91290142000005. Actual Gold Price: $107.099998\n",
      "Predicted Gold Price: $122.57729952999988. Actual Gold Price: $122.809998\n",
      "Predicted Gold Price: $120.67860046000011. Actual Gold Price: $122.379997\n",
      "Predicted Gold Price: $123.89250138000013. Actual Gold Price: $123.639999\n",
      "Predicted Gold Price: $108.13180014999996. Actual Gold Price: $106.129997\n",
      "Predicted Gold Price: $115.4470004. Actual Gold Price: $115.68\n",
      "Predicted Gold Price: $114.35089918999985. Actual Gold Price: $115.089996\n",
      "Predicted Gold Price: $120.85420072000008. Actual Gold Price: $119.040001\n",
      "Predicted Gold Price: $159.0893027200001. Actual Gold Price: $161.220001\n",
      "Predicted Gold Price: $126.85209902000008. Actual Gold Price: $128.470001\n",
      "Predicted Gold Price: $120.11249965999995. Actual Gold Price: $121.790001\n",
      "Predicted Gold Price: $91.22249941000001. Actual Gold Price: $88.989998\n",
      "Predicted Gold Price: $125.44459936000001. Actual Gold Price: $128.119995\n",
      "Predicted Gold Price: $161.95839786000005. Actual Gold Price: $162.600006\n",
      "Predicted Gold Price: $159.16160186000005. Actual Gold Price: $138.720001\n",
      "Predicted Gold Price: $87.90719931000004. Actual Gold Price: $88.839996\n",
      "Predicted Gold Price: $138.46800063999987. Actual Gold Price: $138.860001\n",
      "Predicted Gold Price: $167.3474976599999. Actual Gold Price: $168.029999\n",
      "Predicted Gold Price: $154.48020071999994. Actual Gold Price: $154.770004\n",
      "Predicted Gold Price: $109.08740057000004. Actual Gold Price: $107.790001\n",
      "Predicted Gold Price: $109.06779855999999. Actual Gold Price: $110.400002\n",
      "Predicted Gold Price: $124.85170014999989. Actual Gold Price: $125.489998\n",
      "Predicted Gold Price: $113.77540165000006. Actual Gold Price: $113.68\n",
      "Predicted Gold Price: $117.46970033. Actual Gold Price: $118.769997\n",
      "Predicted Gold Price: $161.23890266000012. Actual Gold Price: $161.080002\n",
      "Predicted Gold Price: $121.74099998000005. Actual Gold Price: $123.139999\n",
      "Predicted Gold Price: $143.82069718000008. Actual Gold Price: $145.929993\n",
      "Predicted Gold Price: $116.15150020999995. Actual Gold Price: $117.57\n",
      "Predicted Gold Price: $164.22340184. Actual Gold Price: $163.160004\n",
      "Predicted Gold Price: $119.73699950000015. Actual Gold Price: $120.32\n",
      "Predicted Gold Price: $112.22260101999993. Actual Gold Price: $112.669998\n",
      "Predicted Gold Price: $149.13279960999998. Actual Gold Price: $173.529999\n",
      "Predicted Gold Price: $104.19519895000002. Actual Gold Price: $104.389999\n",
      "Predicted Gold Price: $121.84469986. Actual Gold Price: $122.699997\n",
      "Predicted Gold Price: $77.71119955999994. Actual Gold Price: $79.75\n",
      "Predicted Gold Price: $161.18899694000004. Actual Gold Price: $163.169998\n",
      "Predicted Gold Price: $125.79410078999999. Actual Gold Price: $125.470001\n",
      "Predicted Gold Price: $132.05900013000004. Actual Gold Price: $132.809998\n",
      "Predicted Gold Price: $120.11699946999995. Actual Gold Price: $122.290001\n",
      "Predicted Gold Price: $107.98130009000008. Actual Gold Price: $108.589996\n",
      "Predicted Gold Price: $153.28150093000016. Actual Gold Price: $153.520004\n",
      "Predicted Gold Price: $114.63850034. Actual Gold Price: $112.290001\n",
      "Predicted Gold Price: $161.37389997999995. Actual Gold Price: $162.190002\n",
      "Predicted Gold Price: $128.43000200999987. Actual Gold Price: $130.229996\n",
      "Predicted Gold Price: $91.67100162999999. Actual Gold Price: $90.949997\n",
      "Predicted Gold Price: $121.32569966999989. Actual Gold Price: $121.18\n",
      "Predicted Gold Price: $130.88969938000002. Actual Gold Price: $130.990005\n",
      "Predicted Gold Price: $89.51989969999998. Actual Gold Price: $89.150002\n",
      "Predicted Gold Price: $120.44189946999994. Actual Gold Price: $120.010002\n",
      "Predicted Gold Price: $120.17150065999998. Actual Gold Price: $119.790001\n",
      "Predicted Gold Price: $112.94360076999999. Actual Gold Price: $109.699997\n",
      "Predicted Gold Price: $90.72900083. Actual Gold Price: $90.279999\n",
      "Predicted Gold Price: $91.21019881000004. Actual Gold Price: $91.449997\n",
      "Predicted Gold Price: $117.60980031999999. Actual Gold Price: $115.519997\n",
      "Predicted Gold Price: $150.51500027999987. Actual Gold Price: $152.619995\n",
      "Predicted Gold Price: $113.43509962999984. Actual Gold Price: $112.040001\n",
      "Predicted Gold Price: $132.97840101000003. Actual Gold Price: $132.449997\n",
      "Predicted Gold Price: $117.12300145999998. Actual Gold Price: $115.489998\n",
      "Predicted Gold Price: $119.2092006299999. Actual Gold Price: $119.720001\n",
      "Predicted Gold Price: $156.5063983400001. Actual Gold Price: $156.990005\n",
      "Predicted Gold Price: $127.93660379000002. Actual Gold Price: $127.349998\n",
      "Predicted Gold Price: $114.01550066000006. Actual Gold Price: $115.639999\n",
      "Predicted Gold Price: $119.72560025000001. Actual Gold Price: $121.190002\n",
      "Predicted Gold Price: $140.6586992200001. Actual Gold Price: $137.660004\n",
      "Predicted Gold Price: $115.82090078999995. Actual Gold Price: $117.400002\n",
      "Predicted Gold Price: $92.31239857999999. Actual Gold Price: $92.269997\n",
      "Predicted Gold Price: $89.82300027999992. Actual Gold Price: $90.300003\n",
      "Predicted Gold Price: $166.5304031200002. Actual Gold Price: $166.399994\n",
      "Predicted Gold Price: $112.38279963000002. Actual Gold Price: $111.540001\n",
      "Predicted Gold Price: $115.58500089000009. Actual Gold Price: $115.879997\n",
      "Predicted Gold Price: $119.81990122000005. Actual Gold Price: $119.580002\n",
      "Predicted Gold Price: $114.6629000600001. Actual Gold Price: $114.099998\n",
      "Predicted Gold Price: $92.25899850000003. Actual Gold Price: $92.290001\n",
      "Predicted Gold Price: $117.26709927999993. Actual Gold Price: $118.059998\n",
      "Predicted Gold Price: $155.07910203. Actual Gold Price: $156.220001\n",
      "Predicted Gold Price: $150.56370153999995. Actual Gold Price: $155.919998\n",
      "Predicted Gold Price: $93.0855003. Actual Gold Price: $93.150002\n",
      "Predicted Gold Price: $126.0618007. Actual Gold Price: $124.779999\n",
      "Predicted Gold Price: $104.35019938000003. Actual Gold Price: $104.099998\n",
      "Predicted Gold Price: $155.76510055999992. Actual Gold Price: $155.380005\n",
      "Predicted Gold Price: $115.25490043000009. Actual Gold Price: $115.699997\n",
      "Predicted Gold Price: $119.87539822999996. Actual Gold Price: $119.230003\n",
      "Predicted Gold Price: $91.70729899999994. Actual Gold Price: $91.93\n",
      "Predicted Gold Price: $91.86520022999997. Actual Gold Price: $91.879997\n",
      "Predicted Gold Price: $153.15090083999988. Actual Gold Price: $152.080002\n",
      "Predicted Gold Price: $173.60939728000008. Actual Gold Price: $175.779999\n",
      "Predicted Gold Price: $79.44329929. Actual Gold Price: $72.800003\n",
      "Predicted Gold Price: $126.07430002000005. Actual Gold Price: $125.029999\n",
      "Predicted Gold Price: $119.25710002000001. Actual Gold Price: $118.989998\n",
      "Predicted Gold Price: $150.13140065000005. Actual Gold Price: $152.710007\n",
      "Predicted Gold Price: $91.06500072999995. Actual Gold Price: $91.330002\n",
      "Predicted Gold Price: $164.1841012400001. Actual Gold Price: $162.300003\n",
      "Predicted Gold Price: $138.50639774999996. Actual Gold Price: $140.809998\n",
      "Predicted Gold Price: $117.21040119000013. Actual Gold Price: $118.480003\n",
      "Predicted Gold Price: $140.48469991. Actual Gold Price: $155.759995\n",
      "Predicted Gold Price: $82.11249837999998. Actual Gold Price: $83.459999\n",
      "Predicted Gold Price: $125.1615989599999. Actual Gold Price: $125.959999\n",
      "Predicted Gold Price: $118.9654009900001. Actual Gold Price: $117.959999\n",
      "Predicted Gold Price: $91.09650027000006. Actual Gold Price: $91.25\n",
      "Predicted Gold Price: $93.94250008999994. Actual Gold Price: $93.400002\n",
      "Predicted Gold Price: $174.1551968299998. Actual Gold Price: $171.800003\n",
      "Predicted Gold Price: $164.89050079000003. Actual Gold Price: $162.100006\n",
      "Predicted Gold Price: $168.30660084. Actual Gold Price: $165.309998\n",
      "Predicted Gold Price: $139.93150180999987. Actual Gold Price: $138.539993\n",
      "Predicted Gold Price: $118.4782009700001. Actual Gold Price: $118.110001\n",
      "Predicted Gold Price: $130.14320118999998. Actual Gold Price: $130.100006\n",
      "Predicted Gold Price: $124.26770087999998. Actual Gold Price: $123.779999\n",
      "Predicted Gold Price: $129.31539962999994. Actual Gold Price: $129.770004\n",
      "Predicted Gold Price: $121.56180024000007. Actual Gold Price: $121.330002\n",
      "Predicted Gold Price: $122.0088986699999. Actual Gold Price: $121.730003\n",
      "Predicted Gold Price: $127.15530066999997. Actual Gold Price: $128.110001\n",
      "Predicted Gold Price: $103.28030011000004. Actual Gold Price: $103.559998\n",
      "Predicted Gold Price: $116.00480051999999. Actual Gold Price: $115.059998\n",
      "Predicted Gold Price: $133.11679931000006. Actual Gold Price: $131.199997\n",
      "Predicted Gold Price: $165.04009931000002. Actual Gold Price: $164.860001\n",
      "Predicted Gold Price: $125.6595003000001. Actual Gold Price: $126.300003\n",
      "Predicted Gold Price: $113.90670191000005. Actual Gold Price: $112.660004\n",
      "Predicted Gold Price: $123.12420036000003. Actual Gold Price: $122.389999\n",
      "Predicted Gold Price: $82.69320059999998. Actual Gold Price: $82.18\n",
      "Predicted Gold Price: $102.85299862000011. Actual Gold Price: $103.559998\n",
      "Predicted Gold Price: $121.49769898999992. Actual Gold Price: $119.940002\n",
      "Predicted Gold Price: $163.16640072. Actual Gold Price: $162.940002\n",
      "Predicted Gold Price: $121.27539947000007. Actual Gold Price: $122.080002\n",
      "Predicted Gold Price: $87.26390053000003. Actual Gold Price: $87.989998\n",
      "Predicted Gold Price: $127.49829993999991. Actual Gold Price: $126.449997\n",
      "Predicted Gold Price: $108.13629961999997. Actual Gold Price: $107.790001\n",
      "Predicted Gold Price: $158.05160163000008. Actual Gold Price: $159.669998\n",
      "Predicted Gold Price: $164.32619999000005. Actual Gold Price: $163.259995\n",
      "Predicted Gold Price: $124.00920025999994. Actual Gold Price: $122.879997\n",
      "Predicted Gold Price: $124.37960043000001. Actual Gold Price: $124.769997\n",
      "Predicted Gold Price: $146.82059834000017. Actual Gold Price: $151.990005\n",
      "Predicted Gold Price: $89.86929961999991. Actual Gold Price: $90.900002\n",
      "Predicted Gold Price: $88.66900034. Actual Gold Price: $91.309998\n",
      "Predicted Gold Price: $115.35780030999999. Actual Gold Price: $115.599998\n",
      "Predicted Gold Price: $108.67959972. Actual Gold Price: $108.949997\n",
      "Predicted Gold Price: $128.54199777000002. Actual Gold Price: $129.869995\n",
      "Predicted Gold Price: $108.51579987999999. Actual Gold Price: $109.43\n",
      "Predicted Gold Price: $114.95060010000006. Actual Gold Price: $116.330002\n",
      "Predicted Gold Price: $167.88999849000004. Actual Gold Price: $168.350006\n",
      "Predicted Gold Price: $120.34320005000006. Actual Gold Price: $121.730003\n",
      "Predicted Gold Price: $106.97439964000002. Actual Gold Price: $107.559998\n",
      "Predicted Gold Price: $158.24669888000003. Actual Gold Price: $160.779999\n",
      "Predicted Gold Price: $124.89609845. Actual Gold Price: $125.410004\n",
      "Predicted Gold Price: $114.51660167. Actual Gold Price: $114.0\n",
      "Predicted Gold Price: $103.44240031000008. Actual Gold Price: $104.260002\n",
      "Predicted Gold Price: $150.4214990699999. Actual Gold Price: $150.479996\n",
      "Predicted Gold Price: $166.79359916999988. Actual Gold Price: $168.110001\n",
      "Predicted Gold Price: $171.20280297999992. Actual Gold Price: $171.050003\n",
      "Predicted Gold Price: $92.29339914999998. Actual Gold Price: $92.529999\n",
      "Predicted Gold Price: $114.61830036. Actual Gold Price: $114.419998\n",
      "Predicted Gold Price: $119.02759929999996. Actual Gold Price: $118.589996\n",
      "Predicted Gold Price: $113.70330110999994. Actual Gold Price: $113.150002\n",
      "Predicted Gold Price: $160.14430491000002. Actual Gold Price: $159.309998\n",
      "Predicted Gold Price: $120.32329932000006. Actual Gold Price: $120.739998\n",
      "Predicted Gold Price: $72.73510219000005. Actual Gold Price: $70.0\n",
      "Predicted Gold Price: $119.01159947000005. Actual Gold Price: $118.239998\n",
      "Predicted Gold Price: $115.24110038999991. Actual Gold Price: $115.059998\n",
      "Predicted Gold Price: $167.0520980199999. Actual Gold Price: $169.309998\n",
      "Predicted Gold Price: $118.95790060000009. Actual Gold Price: $117.540001\n",
      "Predicted Gold Price: $114.66159992000001. Actual Gold Price: $113.529999\n",
      "Predicted Gold Price: $94.32759970000002. Actual Gold Price: $94.779999\n",
      "Predicted Gold Price: $116.97360151999999. Actual Gold Price: $117.220001\n",
      "Predicted Gold Price: $128.20469893000003. Actual Gold Price: $128.990005\n",
      "Predicted Gold Price: $114.48209992999999. Actual Gold Price: $113.639999\n",
      "Predicted Gold Price: $155.9443000899999. Actual Gold Price: $157.160004\n",
      "Predicted Gold Price: $119.45670038999998. Actual Gold Price: $118.470001\n",
      "Predicted Gold Price: $118.64380145000003. Actual Gold Price: $119.870003\n",
      "Predicted Gold Price: $161.22850197000022. Actual Gold Price: $160.210007\n",
      "Predicted Gold Price: $118.98980024000006. Actual Gold Price: $118.93\n",
      "Predicted Gold Price: $95.18939867000003. Actual Gold Price: $95.449997\n",
      "Predicted Gold Price: $118.07660129999998. Actual Gold Price: $117.959999\n",
      "Predicted Gold Price: $166.69140101000002. Actual Gold Price: $168.0\n",
      "Predicted Gold Price: $111.33119884. Actual Gold Price: $109.860001\n",
      "Predicted Gold Price: $146.83470253999988. Actual Gold Price: $146.869995\n",
      "Predicted Gold Price: $118.82290067000002. Actual Gold Price: $118.639999\n",
      "Predicted Gold Price: $86.67769870999997. Actual Gold Price: $87.0\n",
      "Predicted Gold Price: $171.6029013599999. Actual Gold Price: $173.610001\n",
      "Predicted Gold Price: $154.47909796. Actual Gold Price: $134.100006\n",
      "Predicted Gold Price: $162.83440099999999. Actual Gold Price: $164.399994\n",
      "Predicted Gold Price: $84.31169838999995. Actual Gold Price: $83.459999\n",
      "Predicted Gold Price: $119.72143822000011. Actual Gold Price: $119.82\n",
      "Predicted Gold Price: $108.59320027999996. Actual Gold Price: $117.110001\n",
      "Predicted Gold Price: $92.66249983000002. Actual Gold Price: $93.25\n",
      "Predicted Gold Price: $72.23949987000002. Actual Gold Price: $73.790001\n",
      "Predicted Gold Price: $93.22089984000007. Actual Gold Price: $93.269997\n",
      "Predicted Gold Price: $117.59340022000002. Actual Gold Price: $118.760002\n",
      "Predicted Gold Price: $177.26869871999986. Actual Gold Price: $179.100006\n",
      "Predicted Gold Price: $116.06470120000003. Actual Gold Price: $116.720001\n",
      "Predicted Gold Price: $123.6911996. Actual Gold Price: $125.32\n",
      "Predicted Gold Price: $87.21919923. Actual Gold Price: $87.269997\n",
      "Predicted Gold Price: $113.31600065999997. Actual Gold Price: $112.57\n",
      "Predicted Gold Price: $112.04230017000008. Actual Gold Price: $110.489998\n",
      "Predicted Gold Price: $162.57280443000013. Actual Gold Price: $162.009995\n",
      "Predicted Gold Price: $118.80050131000009. Actual Gold Price: $120.089996\n",
      "Predicted Gold Price: $87.27509800999998. Actual Gold Price: $86.5\n",
      "Predicted Gold Price: $168.27379918000008. Actual Gold Price: $164.289993\n",
      "Predicted Gold Price: $124.8968999899999. Actual Gold Price: $125.980003\n",
      "Predicted Gold Price: $126.06239993000003. Actual Gold Price: $125.739998\n",
      "Predicted Gold Price: $121.29020003000007. Actual Gold Price: $120.110001\n",
      "Predicted Gold Price: $116.79260018000006. Actual Gold Price: $115.839996\n",
      "Predicted Gold Price: $90.12140011999992. Actual Gold Price: $89.269997\n",
      "Predicted Gold Price: $146.97629963999995. Actual Gold Price: $147.770004\n",
      "Predicted Gold Price: $108.93269899000002. Actual Gold Price: $108.699997\n",
      "Predicted Gold Price: $91.60599849999996. Actual Gold Price: $91.980003\n",
      "Predicted Gold Price: $118.35889964999997. Actual Gold Price: $118.82\n",
      "Predicted Gold Price: $152.8251025600002. Actual Gold Price: $152.440002\n",
      "Predicted Gold Price: $122.84579967999986. Actual Gold Price: $123.349998\n",
      "Predicted Gold Price: $142.5789994599999. Actual Gold Price: $139.139999\n",
      "Predicted Gold Price: $148.1354022199999. Actual Gold Price: $146.380005\n",
      "Predicted Gold Price: $108.27369989. Actual Gold Price: $111.019997\n",
      "Predicted Gold Price: $129.43610316000024. Actual Gold Price: $129.089996\n",
      "Predicted Gold Price: $112.11250009999999. Actual Gold Price: $111.970001\n",
      "Predicted Gold Price: $113.97040045999991. Actual Gold Price: $114.470001\n",
      "Predicted Gold Price: $115.35150035999999. Actual Gold Price: $113.75\n",
      "Predicted Gold Price: $157.21189804000002. Actual Gold Price: $133.970001\n",
      "Predicted Gold Price: $83.63959875999997. Actual Gold Price: $84.480003\n",
      "Predicted Gold Price: $124.89349993999993. Actual Gold Price: $128.460007\n",
      "Predicted Gold Price: $91.64059950000001. Actual Gold Price: $90.699997\n",
      "Predicted Gold Price: $113.43979906999998. Actual Gold Price: $113.800003\n",
      "Predicted Gold Price: $127.15579826000003. Actual Gold Price: $128.179993\n",
      "Predicted Gold Price: $92.33060028999998. Actual Gold Price: $93.260002\n",
      "Predicted Gold Price: $129.73310088000017. Actual Gold Price: $129.860001\n",
      "Predicted Gold Price: $124.59839928000001. Actual Gold Price: $124.269997\n",
      "Predicted Gold Price: $128.09379863999996. Actual Gold Price: $129.210007\n",
      "Predicted Gold Price: $121.99309866999991. Actual Gold Price: $121.620003\n",
      "Predicted Gold Price: $90.03919978999991. Actual Gold Price: $89.419998\n",
      "Predicted Gold Price: $86.98269813000006. Actual Gold Price: $89.900002\n",
      "Predicted Gold Price: $136.68889927000004. Actual Gold Price: $137.899994\n",
      "Predicted Gold Price: $165.67070081000003. Actual Gold Price: $166.550003\n",
      "Predicted Gold Price: $169.6114997699999. Actual Gold Price: $171.050003\n",
      "Predicted Gold Price: $159.9905031100001. Actual Gold Price: $161.029999\n",
      "Predicted Gold Price: $123.6177996799999. Actual Gold Price: $123.389999\n",
      "Predicted Gold Price: $106.49350016999988. Actual Gold Price: $105.900002\n",
      "Predicted Gold Price: $116.42290023000011. Actual Gold Price: $114.459999\n",
      "Predicted Gold Price: $124.48659955000002. Actual Gold Price: $124.959999\n",
      "Predicted Gold Price: $91.64709879. Actual Gold Price: $93.059998\n",
      "Predicted Gold Price: $167.1760984199999. Actual Gold Price: $167.270004\n",
      "Predicted Gold Price: $91.68349895999998. Actual Gold Price: $92.040001\n",
      "Predicted Gold Price: $128.18270167. Actual Gold Price: $127.150002\n",
      "Predicted Gold Price: $117.54670081000006. Actual Gold Price: $116.040001\n",
      "Predicted Gold Price: $164.91319860999988. Actual Gold Price: $167.289993\n",
      "Predicted Gold Price: $114.90390008999995. Actual Gold Price: $114.120003\n",
      "Predicted Gold Price: $163.14370109999993. Actual Gold Price: $163.669998\n",
      "Predicted Gold Price: $167.80539997000014. Actual Gold Price: $171.699997\n",
      "Predicted Gold Price: $84.32029959000002. Actual Gold Price: $86.519997\n",
      "Predicted Gold Price: $117.28530040999998. Actual Gold Price: $116.089996\n",
      "Predicted Gold Price: $101.89269909000001. Actual Gold Price: $100.5\n",
      "Predicted Gold Price: $130.72020152. Actual Gold Price: $132.130005\n",
      "Predicted Gold Price: $112.99419938999984. Actual Gold Price: $111.5\n",
      "Predicted Gold Price: $80.81699884999998. Actual Gold Price: $83.309998\n",
      "Predicted Gold Price: $92.46410005000007. Actual Gold Price: $92.290001\n",
      "Predicted Gold Price: $136.1841000699999. Actual Gold Price: $136.5\n",
      "Predicted Gold Price: $98.79969973000001. Actual Gold Price: $97.959999\n",
      "Predicted Gold Price: $117.86649859999997. Actual Gold Price: $115.199997\n",
      "Predicted Gold Price: $116.46860098999993. Actual Gold Price: $115.57\n",
      "Predicted Gold Price: $118.87799999. Actual Gold Price: $119.510002\n",
      "Predicted Gold Price: $125.87120103999997. Actual Gold Price: $125.389999\n",
      "Predicted Gold Price: $115.06760012000002. Actual Gold Price: $113.660004\n",
      "Predicted Gold Price: $97.24340125000006. Actual Gold Price: $97.889999\n",
      "Predicted Gold Price: $73.27099914999997. Actual Gold Price: $72.709999\n",
      "Predicted Gold Price: $117.87579989000004. Actual Gold Price: $120.050003\n",
      "Predicted Gold Price: $89.54080072000002. Actual Gold Price: $90.809998\n",
      "Predicted Gold Price: $134.94739901999995. Actual Gold Price: $138.369995\n",
      "Predicted Gold Price: $113.26719977999997. Actual Gold Price: $115.540001\n",
      "Predicted Gold Price: $114.62409977000007. Actual Gold Price: $115.730003\n",
      "Predicted Gold Price: $110.79480085999994. Actual Gold Price: $111.089996\n",
      "Predicted Gold Price: $86.21039876000007. Actual Gold Price: $85.43\n",
      "Predicted Gold Price: $113.16070102000002. Actual Gold Price: $110.75\n",
      "Predicted Gold Price: $126.51310115999993. Actual Gold Price: $125.980003\n",
      "Predicted Gold Price: $156.2165985300001. Actual Gold Price: $156.559998\n",
      "Predicted Gold Price: $120.00619956000008. Actual Gold Price: $119.040001\n",
      "Predicted Gold Price: $77.38600019999991. Actual Gold Price: $76.790001\n",
      "Predicted Gold Price: $113.65430140999993. Actual Gold Price: $110.449997\n",
      "Predicted Gold Price: $87.27699799000005. Actual Gold Price: $86.230003\n",
      "Predicted Gold Price: $114.77759908. Actual Gold Price: $116.620003\n",
      "Predicted Gold Price: $96.11630211999996. Actual Gold Price: $96.360001\n",
      "Predicted Gold Price: $115.68540000000006. Actual Gold Price: $115.940002\n",
      "Predicted Gold Price: $125.78749930000008. Actual Gold Price: $124.18\n",
      "Predicted Gold Price: $114.13560050999989. Actual Gold Price: $112.839996\n",
      "Predicted Gold Price: $118.02770036000007. Actual Gold Price: $118.68\n",
      "Predicted Gold Price: $119.15000055999997. Actual Gold Price: $119.580002\n",
      "Predicted Gold Price: $125.32989883999997. Actual Gold Price: $125.989998\n",
      "Predicted Gold Price: $111.95080183. Actual Gold Price: $111.760002\n",
      "Predicted Gold Price: $109.17679942000004. Actual Gold Price: $109.300003\n",
      "Predicted Gold Price: $165.64110235000018. Actual Gold Price: $166.020004\n",
      "Predicted Gold Price: $96.18509883999992. Actual Gold Price: $95.870003\n",
      "Predicted Gold Price: $121.46180114000005. Actual Gold Price: $120.949997\n",
      "Predicted Gold Price: $92.04400064000001. Actual Gold Price: $93.059998\n",
      "Predicted Gold Price: $115.95070108000006. Actual Gold Price: $116.07\n",
      "Predicted Gold Price: $110.88799904999995. Actual Gold Price: $110.75\n",
      "Predicted Gold Price: $155.86110362000002. Actual Gold Price: $155.130005\n",
      "Predicted Gold Price: $117.82809979000005. Actual Gold Price: $117.599998\n",
      "Predicted Gold Price: $153.83759999000003. Actual Gold Price: $157.320007\n",
      "Predicted Gold Price: $86.65379889. Actual Gold Price: $85.389999\n",
      "Predicted Gold Price: $141.11649861. Actual Gold Price: $141.630005\n",
      "Predicted Gold Price: $110.23459859000005. Actual Gold Price: $109.790001\n",
      "Predicted Gold Price: $106.61240006000006. Actual Gold Price: $107.110001\n",
      "Predicted Gold Price: $128.08909821999998. Actual Gold Price: $130.169998\n",
      "Predicted Gold Price: $119.10849955000012. Actual Gold Price: $115.940002\n",
      "Predicted Gold Price: $120.13090022000006. Actual Gold Price: $121.480003\n",
      "Predicted Gold Price: $117.81060061. Actual Gold Price: $117.919998\n",
      "Predicted Gold Price: $147.56510140000003. Actual Gold Price: $151.050003\n",
      "Predicted Gold Price: $109.40309899000003. Actual Gold Price: $108.860001\n",
      "Predicted Gold Price: $135.68370127000014. Actual Gold Price: $136.029999\n",
      "Predicted Gold Price: $158.13259929000012. Actual Gold Price: $160.619995\n",
      "Predicted Gold Price: $107.57239971000008. Actual Gold Price: $106.300003\n",
      "Predicted Gold Price: $102.55319971000006. Actual Gold Price: $102.43\n",
      "Predicted Gold Price: $167.54619952000007. Actual Gold Price: $173.490005\n",
      "Predicted Gold Price: $120.03390069000005. Actual Gold Price: $121.400002\n",
      "Predicted Gold Price: $140.20450069000006. Actual Gold Price: $142.149994\n",
      "Predicted Gold Price: $104.25509966999992. Actual Gold Price: $104.080002\n",
      "Predicted Gold Price: $94.06840012999997. Actual Gold Price: $93.900002\n",
      "Predicted Gold Price: $114.17480150999992. Actual Gold Price: $115.379997\n",
      "Predicted Gold Price: $123.42280094. Actual Gold Price: $122.790001\n",
      "Predicted Gold Price: $109.86979831000008. Actual Gold Price: $109.610001\n",
      "Predicted Gold Price: $168.95839994999997. Actual Gold Price: $168.179993\n",
      "Predicted Gold Price: $170.92900138000002. Actual Gold Price: $172.050003\n",
      "Predicted Gold Price: $117.83329943000001. Actual Gold Price: $117.739998\n",
      "Predicted Gold Price: $168.6727982699999. Actual Gold Price: $167.179993\n",
      "Predicted Gold Price: $126.24910047000002. Actual Gold Price: $127.260002\n",
      "Predicted Gold Price: $160.96380516000008. Actual Gold Price: $159.429993\n",
      "Predicted Gold Price: $95.61909987000007. Actual Gold Price: $94.779999\n",
      "Predicted Gold Price: $98.88849898000001. Actual Gold Price: $99.82\n",
      "Predicted Gold Price: $125.42549974999993. Actual Gold Price: $126.940002\n",
      "Predicted Gold Price: $72.93350037999996. Actual Gold Price: $71.099998\n",
      "Predicted Gold Price: $88.32099949999993. Actual Gold Price: $89.57\n",
      "Predicted Gold Price: $93.83690101. Actual Gold Price: $93.800003\n",
      "Predicted Gold Price: $148.76789781999997. Actual Gold Price: $169.550003\n",
      "Predicted Gold Price: $114.09060137. Actual Gold Price: $114.769997\n",
      "Predicted Gold Price: $108.19999935999996. Actual Gold Price: $108.470001\n",
      "Predicted Gold Price: $123.02869894000003. Actual Gold Price: $122.669998\n",
      "Predicted Gold Price: $89.70219960999994. Actual Gold Price: $89.849998\n",
      "Predicted Gold Price: $148.77760116000002. Actual Gold Price: $153.339996\n",
      "Predicted Gold Price: $93.88219851999992. Actual Gold Price: $93.760002\n",
      "Predicted Gold Price: $86.03949909000002. Actual Gold Price: $84.580002\n",
      "Predicted Gold Price: $106.76560083999993. Actual Gold Price: $105.970001\n",
      "Predicted Gold Price: $74.52169976. Actual Gold Price: $76.029999\n",
      "Predicted Gold Price: $133.6616993400001. Actual Gold Price: $136.880005\n",
      "Predicted Gold Price: $167.24900200999994. Actual Gold Price: $166.089996\n",
      "Predicted Gold Price: $117.74330012999991. Actual Gold Price: $118.190002\n",
      "Predicted Gold Price: $117.81649930999998. Actual Gold Price: $117.050003\n",
      "Predicted Gold Price: $96.69890184000008. Actual Gold Price: $97.730003\n",
      "Predicted Gold Price: $126.20020021000006. Actual Gold Price: $125.370003\n",
      "Predicted Gold Price: $127.90310069000002. Actual Gold Price: $127.57\n",
      "Predicted Gold Price: $113.93869984999992. Actual Gold Price: $114.32\n",
      "Predicted Gold Price: $126.68520023999989. Actual Gold Price: $127.019997\n",
      "Predicted Gold Price: $127.39129957000002. Actual Gold Price: $124.269997\n",
      "Predicted Gold Price: $116.37150072999997. Actual Gold Price: $114.730003\n",
      "Predicted Gold Price: $95.51489957000004. Actual Gold Price: $96.18\n",
      "Predicted Gold Price: $123.13399930999998. Actual Gold Price: $121.290001\n",
      "Predicted Gold Price: $126.26350075000003. Actual Gold Price: $125.32\n",
      "Predicted Gold Price: $89.84550050000003. Actual Gold Price: $88.639999\n",
      "Predicted Gold Price: $133.84100004999993. Actual Gold Price: $132.199997\n",
      "Predicted Gold Price: $118.45550084999996. Actual Gold Price: $118.550003\n",
      "Predicted Gold Price: $115.9215981700001. Actual Gold Price: $115.940002\n",
      "Predicted Gold Price: $144.71979983000017. Actual Gold Price: $147.830002\n",
      "Predicted Gold Price: $94.01190092999995. Actual Gold Price: $93.459999\n",
      "Predicted Gold Price: $116.62209963999997. Actual Gold Price: $115.620003\n",
      "Predicted Gold Price: $87.88160036000001. Actual Gold Price: $88.800003\n",
      "Predicted Gold Price: $119.78629976000008. Actual Gold Price: $120.839996\n"
     ]
    }
   ],
   "source": [
    "y_test = y_test.reset_index(drop=True)\n",
    "\n",
    "for i in range(len(prediction_X_test)):\n",
    "  print(f\"Predicted Gold Price: ${prediction_X_test[i]}. Actual Gold Price: ${y_test[i]}\")"
   ]
  },
  {
   "cell_type": "markdown",
   "metadata": {
    "id": "8_0tr48cICMy"
   },
   "source": [
    "### Plotting the Predicted Values VS Actual Values on graph"
   ]
  },
  {
   "cell_type": "code",
   "execution_count": 20,
   "metadata": {
    "colab": {
     "base_uri": "https://localhost:8080/",
     "height": 489
    },
    "id": "Hg2OchacH8aE",
    "outputId": "ccc43238-227c-4da1-8f9f-5682925ab4e6"
   },
   "outputs": [
    {
     "data": {
      "text/plain": [
       "<matplotlib.legend.Legend at 0x1fdb71e7e10>"
      ]
     },
     "execution_count": 20,
     "metadata": {},
     "output_type": "execute_result"
    },
    {
     "data": {
      "image/png": "[encoded data removed]",
      "text/plain": [
       "<Figure size 640x480 with 1 Axes>"
      ]
     },
     "metadata": {},
     "output_type": "display_data"
    }
   ],
   "source": [
    "predicted_X_test_plot = list(prediction_X_test)\n",
    "y_test_plot = list(y_test)\n",
    "\n",
    "plt.plot(predicted_X_test_plot, color='blue', label='Predicted Value')\n",
    "plt.plot(y_test_plot, color='red', label='Actual Value')\n",
    "plt.title('Predicted Values VS Actual Values')\n",
    "plt.xlabel('Number of Values')\n",
    "plt.ylabel('Gold Price')\n",
    "plt.legend()"
   ]
  },
  {
   "cell_type": "markdown",
   "metadata": {
    "id": "UlK4SEnjJG-M"
   },
   "source": [
    "### Creating a pickle file out of the model"
   ]
  },
  {
   "cell_type": "code",
   "execution_count": 21,
   "metadata": {
    "id": "k7CfCwYTIlQM"
   },
   "outputs": [],
   "source": [
    "import pickle\n",
    "\n",
    "with open('gold_price_pred_model.pkl', 'wb') as f:\n",
    "    pickle.dump(model, f)"
   ]
  }
 ],
 "metadata": {
  "colab": {
   "provenance": []
  },
  "kernelspec": {
   "display_name": "Python 3 (ipykernel)",
   "language": "python",
   "name": "python3"
  },
  "language_info": {
   "codemirror_mode": {
    "name": "ipython",
    "version": 3
   },
   "file_extension": ".py",
   "mimetype": "text/x-python",
   "name": "python",
   "nbconvert_exporter": "python",
   "pygments_lexer": "ipython3",
   "version": "3.11.2"
  }
 },
 "nbformat": 4,
 "nbformat_minor": 1
}
